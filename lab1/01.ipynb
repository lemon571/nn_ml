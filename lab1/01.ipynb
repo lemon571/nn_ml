{
 "cells": [
  {
   "cell_type": "markdown",
   "metadata": {},
   "source": [
    "#Лабораторная работа №1\n",
    "ФИО: Брызгалова Юлия Александровна\n",
    "Группа: БИВТ-21-4"
   ]
  },
  {
   "cell_type": "markdown",
   "metadata": {},
   "source": [
    "## 0. Пример работы assert\n",
    "assert предназначен для проверки каких-либо условий.\n",
    "Если условие истинно (возвращается True), код выполняется без ошибок, в противном случае выходит AssertionError.\n",
    "Ниже пример работы assertов (в ячейке с примером assert a > 6 можно оставить ошибку, но нигде далее в коде ошибок быть не должно)\n",
    "P.S. assertы менять никак нельзя"
   ]
  },
  {
   "cell_type": "code",
   "execution_count": 1,
   "metadata": {},
   "outputs": [],
   "source": [
    "a = 5\n",
    "assert a == 5"
   ]
  },
  {
   "cell_type": "code",
   "execution_count": 32,
   "metadata": {},
   "outputs": [],
   "source": [
    "assert a < 6"
   ]
  },
  {
   "cell_type": "markdown",
   "metadata": {},
   "source": [
    "## 1. Базовые типы переменных\n",
    "Создайте переменные так, чтобы они были объектами определенного типа (типы приведены в комментариях)."
   ]
  },
  {
   "cell_type": "code",
   "execution_count": 7,
   "metadata": {},
   "outputs": [],
   "source": [
    "int_variable = 7  # int\n",
    "assert isinstance(int_variable, int)\n",
    "\n",
    "float_variable = 2.7182  # float\n",
    "assert isinstance(float_variable, float)\n",
    "\n",
    "string_variable = 'String'  # string\n",
    "assert isinstance(string_variable, str)\n",
    "\n",
    "bool_variable = True  # bool\n",
    "assert isinstance(bool_variable, bool)"
   ]
  },
  {
   "cell_type": "code",
   "execution_count": 33,
   "metadata": {},
   "outputs": [],
   "source": [
    "list_variable = [10, 20, 'list', 10]  # list - список\n",
    "assert isinstance(list_variable, list)\n",
    "\n",
    "tuple_variable = ('first','second', 3)  # tuple - кортеж\n",
    "assert isinstance(tuple_variable, tuple)\n",
    "\n",
    "set_variable = {1, 'set', 2, 3}  # set - мно-во\n",
    "assert isinstance(set_variable, set)\n",
    "\n",
    "dict_variable = {\n",
    "    'id': 1,\n",
    "    'type': 'city',\n",
    "    'name': 'London',\n",
    "    }  # dict - словарь {ключ: значение}\n",
    "assert isinstance(dict_variable, dict)"
   ]
  },
  {
   "cell_type": "markdown",
   "metadata": {},
   "source": [
    "## 2.1 Различные функции"
   ]
  },
  {
   "cell_type": "code",
   "execution_count": 23,
   "metadata": {},
   "outputs": [],
   "source": [
    "def difference_of_two_numbers(first, second):\n",
    "    \"\"\"Возвращает разницу между первым и вторым аргументом\"\"\"\n",
    "    # TODO:\n",
    "    return first-second\n",
    "\n",
    "assert difference_of_two_numbers(2, 1) == 1\n",
    "assert difference_of_two_numbers(4, 1) == 3\n",
    "assert difference_of_two_numbers(10, 0) == 10\n",
    "assert difference_of_two_numbers(-5, -6) == 1"
   ]
  },
  {
   "cell_type": "code",
   "execution_count": 27,
   "metadata": {},
   "outputs": [],
   "source": [
    "def condition_function(input_number):\n",
    "    \"\"\"\n",
    "    Если входное число меньше либо равно 0, то умножить его на 2.\n",
    "    В противном случае, если число больше 0, но меньше или равно 10, умножить на 3.\n",
    "    Во всех прочих случаях поделить на 10.\n",
    "    \"\"\"\n",
    "    # TODO: \n",
    "    if input_number <= 0:\n",
    "        input_number *= 2\n",
    "    elif input_number <= 10:\n",
    "        input_number *= 3\n",
    "    else:\n",
    "        input_number /= 10\n",
    "    return input_number\n",
    "\n",
    "assert condition_function(0) == 0\n",
    "assert condition_function(-1) == -2\n",
    "assert condition_function(1) == 3\n",
    "assert condition_function(10) == 30\n",
    "assert condition_function(11) == 1.1\n",
    "assert condition_function(20) == 2"
   ]
  },
  {
   "cell_type": "code",
   "execution_count": 28,
   "metadata": {},
   "outputs": [],
   "source": [
    "def calculator(number_1, operation, number_2):\n",
    "    \"\"\"\n",
    "    Простой оператор, способный выполнять операции +, -, *, /.\n",
    "    На входе первое число, операция в виде строки и второе число.\n",
    "    \n",
    "    Пример: \n",
    "    >>> calculator(1, \"+\", 1)\n",
    "    >>> 2\n",
    "    \"\"\"\n",
    "    # TODO: \n",
    "    if operation == '+':\n",
    "        return number_1 + number_2\n",
    "    elif operation == '-':\n",
    "        return number_1 - number_2\n",
    "    elif operation == '*':\n",
    "        return number_1 * number_2\n",
    "    else:\n",
    "        return number_1 / number_2\n",
    "    \n",
    "assert calculator(1, \"+\", 2) == 3\n",
    "assert calculator(3, \"-\", 1) == 2\n",
    "assert calculator(4, \"*\", 3) == 12\n",
    "assert calculator(2, \"/\", 2) == 1"
   ]
  },
  {
   "cell_type": "code",
   "execution_count": 31,
   "metadata": {},
   "outputs": [],
   "source": [
    "def number_of_unique_elements(input_list):\n",
    "    \"\"\"\n",
    "    Считает количество уникальных элементов в листе.\n",
    "    \"\"\"\n",
    "    # TODO:\n",
    "    unique_elements = set(input_list) # Мно-во уникальных элементов в списке\n",
    "    return len(unique_elements)\n",
    "\n",
    "assert number_of_unique_elements([1, 2, 3]) == 3\n",
    "assert number_of_unique_elements([1] * 93) == 1\n",
    "assert number_of_unique_elements(list(range(1000))) == 1000"
   ]
  },
  {
   "cell_type": "code",
   "execution_count": 34,
   "metadata": {},
   "outputs": [],
   "source": [
    "def counter(input_list):\n",
    "    \"\"\"\n",
    "    Считает количество вхождений каждого из элементов листа.\n",
    "    Возвращает словарь вида {число: количество вхождений}\n",
    "    \n",
    "    Замечание (!): встроенным в collections Counter'ом пользоваться нельзя\n",
    "    \n",
    "    Например:\n",
    "    counter([1, 1, 2, 3]) вернет {1: 2, 2: 1, 3: 1}\n",
    "    \"\"\"\n",
    "    # TODO:\n",
    "    dict_count = {}\n",
    "    for i in input_list:\n",
    "        if i in dict_count:\n",
    "            dict_count[i] += 1\n",
    "        else:\n",
    "            dict_count[i] = 1\n",
    "    return dict_count\n",
    "\n",
    "assert counter([1, 1, 1, 2, 3]) == {1: 3, 2: 1, 3: 1}\n",
    "assert counter([1] * 1000) == {1: 1000}\n",
    "assert counter([1, 3, 5] * 100) == {1: 100, 3: 100, 5: 100}"
   ]
  },
  {
   "cell_type": "code",
   "execution_count": 37,
   "metadata": {},
   "outputs": [],
   "source": [
    "def multiply_nums(input_string):\n",
    "    \"\"\"\n",
    "    Перемножить числа, переданные в строке, перечисленные через запятую.\n",
    "    \n",
    "    hint: можно использовать метод .split()\n",
    "    \"\"\"\n",
    "    # TODO:  \n",
    "    nums = input_string.split(',')\n",
    "    result = 1\n",
    "    for i in nums:\n",
    "        result *= int(i)\n",
    "    return result\n",
    "\n",
    "assert multiply_nums(\"2, 3\") == 6\n",
    "assert multiply_nums(\"1, 1, 1, 1, 1, 1, 1\") == 1\n",
    "assert multiply_nums(\"345, 4576, 794, 325, 0\") == 0"
   ]
  },
  {
   "cell_type": "markdown",
   "metadata": {},
   "source": [
    "Реализуйте следующую функцию: y = sin(x) * cos(x)\n",
    "P.S. используйте библиотеку math"
   ]
  },
  {
   "cell_type": "code",
   "execution_count": 47,
   "metadata": {},
   "outputs": [],
   "source": [
    "import math\n",
    "def function_1(x):\n",
    "    a = int(math.sin(x) * math.cos(x))\n",
    "    return a\n",
    "\n",
    "assert function_1(math.pi/2) == 0\n",
    "assert function_1(math.pi) == 0"
   ]
  },
  {
   "cell_type": "code",
   "execution_count": 46,
   "metadata": {},
   "outputs": [],
   "source": [
    "def custom_function(x):\n",
    "    \"\"\"\n",
    "    Реализуйте функцию, описанную выше.\n",
    "    \"\"\"\n",
    "    # TODO: \n",
    "    a = float(math.sin(x) * math.cos(x))\n",
    "    return a\n",
    "\n",
    "assert round(custom_function(1), 3) == 0.455\n",
    "assert round(custom_function(1.5), 3) == 0.071\n",
    "assert round(custom_function(2), 3) == -0.378\n",
    "assert custom_function(0) == 0"
   ]
  },
  {
   "cell_type": "markdown",
   "metadata": {},
   "source": [
    "Реализуйте следующую функцию: y = sum ((n + 2)**x + ln(x))/ (x**2 + 4*n) \n",
    "P.S. используйте библиотеку math"
   ]
  },
  {
   "cell_type": "code",
   "execution_count": 81,
   "metadata": {},
   "outputs": [
    {
     "name": "stdout",
     "output_type": "stream",
     "text": [
      "0.6\n"
     ]
    }
   ],
   "source": [
    "import math\n",
    "def function_2(n, x):\n",
    "    y = 1\n",
    "    for i in range(1, n + 1):\n",
    "        a = (i + 2)**x + math.log(x)\n",
    "        b =  x**2 + 4*i\n",
    "        y *= a / b\n",
    "    return y\n",
    "\n",
    "assert function_2(1, 1) == 0.6"
   ]
  },
  {
   "cell_type": "code",
   "execution_count": 83,
   "metadata": {},
   "outputs": [],
   "source": [
    "import math\n",
    "def custom_function_1(x, n):\n",
    "    y = 1.0\n",
    "    for i in range(1, n + 1):\n",
    "        a = (i+2)**x + math.log(x)\n",
    "        b = x**2 + 4*i\n",
    "        y *= a / b\n",
    "    return y\n",
    "\n",
    "# Проверяем утверждения\n",
    "assert round(custom_function_1(2, 3), 3) == 2.707\n",
    "assert round(custom_function_1(3, 2), 3) == 8.277\n",
    "assert round(custom_function_1(3, 3), 3) == 49.7"
   ]
  },
  {
   "cell_type": "markdown",
   "metadata": {},
   "source": [
    "## 2.2 Задачки на написание функций\n",
    "### 1. Дано число n. С начала суток прошло n минут. Определите, сколько часов и минут будут показывать электронные часы в этот момент. Программа должна вывести два числа: количество часов (от 0 до 23) и количество минут (от 0 до 59). Учтите, что число n может быть больше, чем количество минут в сутках."
   ]
  },
  {
   "cell_type": "code",
   "execution_count": 102,
   "metadata": {},
   "outputs": [],
   "source": [
    "# Ваша задача здесь написать функцию time_converter (именно такое название)\n",
    "# она должна возвращать значения в виде строки 'hours minutes'\n",
    "def time_converter(n):\n",
    "    h = n % (60 * 24) // 60\n",
    "    m = n % 60\n",
    "    result = str(h) + ' ' + str(m)\n",
    "    return result\n",
    "\n",
    "assert time_converter(2782) == '22 22'\n",
    "assert time_converter(4733) == '6 53'\n",
    "assert time_converter(1766) == '5 26'\n",
    "assert time_converter(3865) == '16 25'\n",
    "assert time_converter(4628) == '5 8'\n",
    "assert time_converter(4353) == '0 33'\n",
    "assert time_converter(268) == '4 28'\n",
    "assert time_converter(4373) == '0 53'\n",
    "assert time_converter(2722) == '21 22'\n",
    "assert time_converter(1531) == '1 31'"
   ]
  },
  {
   "cell_type": "markdown",
   "metadata": {},
   "source": [
    "### 2. Написать функцию, которая выводит минимум из трех чисел. Использовать min нельзя. Только if."
   ]
  },
  {
   "cell_type": "code",
   "execution_count": 103,
   "metadata": {},
   "outputs": [],
   "source": [
    "# Написать функцию min_of_three_values, принимает на вход 3 аргумента \n",
    "\n",
    "def min_of_three_values(x, y, z):\n",
    "    if x < y:\n",
    "        if z < x:\n",
    "            return z\n",
    "        else:\n",
    "            return x\n",
    "    else:\n",
    "        if z < y:\n",
    "            return z\n",
    "        else:\n",
    "            return y\n",
    "\n",
    "assert min_of_three_values(1, 2, 3) == 1\n",
    "assert min_of_three_values(1, 1, 9) == 1\n",
    "assert min_of_three_values(18, 7, 11) == 7\n",
    "assert min_of_three_values(2, 10, 10) == 2\n",
    "assert min_of_three_values(17, 14, 17) == 14\n",
    "assert min_of_three_values(9, 2, 10) == 2\n",
    "assert min_of_three_values(7, 4, 7) == 4\n",
    "assert min_of_three_values(0, 8, 3) == 0\n",
    "assert min_of_three_values(8, 10, 6) == 6\n",
    "assert min_of_three_values(1, 4, 8) == 1"
   ]
  },
  {
   "cell_type": "markdown",
   "metadata": {},
   "source": [
    "### 3. Удаление символа из строки. Необходимо использовать встроенный метод .replace()"
   ]
  },
  {
   "cell_type": "code",
   "execution_count": 118,
   "metadata": {},
   "outputs": [
    {
     "name": "stdout",
     "output_type": "stream",
     "text": [
      "\n"
     ]
    }
   ],
   "source": [
    "# Функция remove_symbol принимает два аргумента -- строку и символ, которые необходимо удалить\n",
    "def remove_symbol(a_string, a_symbol):\n",
    "    return a_string.replace(a_symbol, '')\n",
    "\n",
    "print(remove_symbol('aaaaaaaa', 'a'))\n",
    "assert remove_symbol('aaaaaaaa', 'a') == ''\n",
    "assert remove_symbol('abababa', 'b') == 'aaaa'\n",
    "assert remove_symbol('12341234', '3') == '124124'"
   ]
  },
  {
   "cell_type": "markdown",
   "metadata": {},
   "source": [
    "### 4. Удаление каждого 3 символа из строки"
   ]
  },
  {
   "cell_type": "code",
   "execution_count": 132,
   "metadata": {},
   "outputs": [],
   "source": [
    "# Функция remove_each_third_sym принимает один агрумент -- строку.\n",
    "# важно -- мы считаем человеческие индексы (начиная с 1, а не 0)\n",
    "# важно -- оставляем первый аргумент\n",
    "# Необходимо вернуть новую строку \n",
    "def remove_each_third_sym(a_string):\n",
    "    b_string = a_string[0]  # Первый элемент в строке b_string[0] == a_string[0] \n",
    "    for i in range(1, len(a_string)):\n",
    "        if (i + 1) % 3 != 0:  # Каждый третий элемент\n",
    "            b_string += a_string[i]\n",
    "    return b_string\n",
    "   \n",
    "assert remove_each_third_sym('abcdef') == 'abde'\n",
    "assert remove_each_third_sym('sdfasdfasdfsfa') == 'sdasfadffa'\n",
    "assert remove_each_third_sym('123456789') == '124578'\n",
    "assert remove_each_third_sym('987654321') == '986532'"
   ]
  },
  {
   "cell_type": "markdown",
   "metadata": {},
   "source": [
    "### 5. Вывести максимальный элемент и его индекс в листе"
   ]
  },
  {
   "cell_type": "code",
   "execution_count": 136,
   "metadata": {},
   "outputs": [],
   "source": [
    "# Функция find_max принимает на вход лист\n",
    "# на выходе два числа -- непосредственно максимальное значение и его индекс \n",
    "def find_max (a_list):\n",
    "    mx = max(a_list)\n",
    "    mx_index = a_list.index(mx)\n",
    "    return mx, mx_index\n",
    " \n",
    "assert find_max([1, 2, 3, 4, 5]) == (5, 4)\n",
    "assert find_max([5, 4, 3, 2, 1]) == (5, 0)\n",
    "assert find_max([96, 82, 72, 48, 93, 88, 79]) == (96, 0)\n",
    "assert find_max([49, 75, 65, 65, 65, 18]) == (75, 1)\n",
    "assert find_max([69, 16, 64, 54, 36, 70, 89, 29]) == (89, 6)\n",
    "assert find_max([17, 80, 27, 36, 21, 85, 63, 27]) == (85, 5)\n",
    "assert find_max([76, 27, 73, 65, 52]) == (76, 0)\n",
    "assert find_max([33, 26, 69, 40, 93]) == (93, 4)\n",
    "assert find_max([87, 5, 95, 52, 21, 76, 22]) == (95, 2)\n",
    "assert find_max([75, 18, 89, 99, 70]) == (99, 3)"
   ]
  },
  {
   "cell_type": "markdown",
   "metadata": {},
   "source": [
    "### 6. Вставить элемент в конец листа. Использовать метод append можно и нужно"
   ]
  },
  {
   "cell_type": "code",
   "execution_count": 142,
   "metadata": {},
   "outputs": [],
   "source": [
    "# функция append_to_list принимает два значения -- лист и значение, которое необходимо вставить в конец листа\n",
    "# функция возвращает обновленный лист\n",
    "def append_to_list(a_list, a_number):\n",
    "    a_list.append(a_number)\n",
    "    return a_list\n",
    "\n",
    "assert append_to_list([1, 2], 3) == [1, 2, 3]\n",
    "assert append_to_list([1, 2], None) == [1, 2, None]\n",
    "assert append_to_list([1, 's'], True) == [1, 's', True]"
   ]
  },
  {
   "cell_type": "markdown",
   "metadata": {},
   "source": [
    "### 7. Количество уникальных чисел в листе. Нужно использовать множества (set)"
   ]
  },
  {
   "cell_type": "code",
   "execution_count": 145,
   "metadata": {},
   "outputs": [],
   "source": [
    "# функция number_unique_elements принимает на вход лист\n",
    "# на выходе одно число -- количество уникальных элементов\n",
    "def number_unique_elements(a_list):\n",
    "    a_set = set(a_list)\n",
    "    return len(a_set)\n",
    "\n",
    "assert number_unique_elements([1, 2, 3]) == 3\n",
    "assert number_unique_elements([1, 2, 1]) == 2\n",
    "assert number_unique_elements([1, 1, 1, 1]) == 1\n",
    "assert number_unique_elements([1, 2, 1, 2]) == 2"
   ]
  },
  {
   "cell_type": "markdown",
   "metadata": {},
   "source": [
    "## 3. Классы\n",
    "### 3.1 Напишите класс Vehicle с двумя атрибутами -- максимальная скорость (max_speed) и пробег (mileage)\n",
    "Необходимо реализовать только метод-конструктор __init__"
   ]
  },
  {
   "cell_type": "code",
   "execution_count": 148,
   "metadata": {},
   "outputs": [],
   "source": [
    "class Vehicle:\n",
    "    # TODO\n",
    "    def __init__(self, max_speed, mileage):\n",
    "        self.max_speed = max_speed\n",
    "        self.mileage = mileage        \n",
    "\n",
    "veh1 = Vehicle(100, 50)\n",
    "assert (veh1.max_speed, veh1.mileage) == (100, 50)\n",
    "\n",
    "veh2 = Vehicle(200, 3)\n",
    "assert (veh2.max_speed, veh2.mileage) == (200, 3)"
   ]
  },
  {
   "cell_type": "markdown",
   "metadata": {},
   "source": [
    "### 3.2 Напишите класс Truck, который наследуется от Vehicle\n",
    "P.S. Наследование возможно при помощи конструкции class Subclass(MotherClass):"
   ]
  },
  {
   "cell_type": "code",
   "execution_count": 149,
   "metadata": {},
   "outputs": [],
   "source": [
    "class Truck(Vehicle):\n",
    "    #TODO\n",
    "    def __init__(self, max_speed, mileage):\n",
    "        super().__init__(max_speed, mileage) # super() - функция вызова метода-конструктора род. класса Vehicle\n",
    "        \n",
    "truck1 = Truck(50, 1000)\n",
    "assert (truck1.max_speed, truck1.mileage) == (50, 1000)\n",
    "\n",
    "truck2 = Truck(43, 235)\n",
    "assert (truck2.max_speed, truck2.mileage) == (43, 235)"
   ]
  },
  {
   "cell_type": "markdown",
   "metadata": {},
   "source": [
    "### 3.3 Напишите класс MyList с функционалом, как описано ниже"
   ]
  },
  {
   "cell_type": "code",
   "execution_count": 157,
   "metadata": {},
   "outputs": [],
   "source": [
    "class MyList:\n",
    "    def __init__(self, list):\n",
    "        self.list = list\n",
    "    \n",
    "    def return_sum(self):\n",
    "        \"\"\"\n",
    "        Возвращает сумму всех элементов сохраненного листа.\n",
    "        Пользоваться sum нельзя!\n",
    "        \"\"\"\n",
    "        sum = 0\n",
    "        for i in self.list:\n",
    "            sum += i\n",
    "        return sum\n",
    "    \n",
    "    def make_reverse(self):\n",
    "        \"\"\"\n",
    "        Разворачивает сохраненный лист.\n",
    "        \"\"\"\n",
    "        return self.list[::-1]\n",
    "    \n",
    "    def make_slice(self, start, stop):\n",
    "        \"\"\"\n",
    "        Делает слайсинг сохраненного листа.\n",
    "        \"\"\"\n",
    "        return self.list[start:stop]\n",
    "        \n",
    "a = MyList([1, 2, 3, 4])\n",
    "assert a.return_sum() == 10\n",
    "assert a.make_reverse() == [4, 3, 2, 1]\n",
    "assert a.make_slice(0, 2) == [1, 2]\n",
    "\n",
    "b = MyList([5, 6, 6, 5])\n",
    "assert b.return_sum() == 22\n",
    "assert b.make_reverse() == [5, 6, 6, 5]\n",
    "assert b.make_slice(1, 2) == [6]"
   ]
  }
 ],
 "metadata": {
  "kernelspec": {
   "display_name": "Python 3",
   "language": "python",
   "name": "python3"
  },
  "language_info": {
   "codemirror_mode": {
    "name": "ipython",
    "version": 3
   },
   "file_extension": ".py",
   "mimetype": "text/x-python",
   "name": "python",
   "nbconvert_exporter": "python",
   "pygments_lexer": "ipython3",
   "version": "3.11.4"
  }
 },
 "nbformat": 4,
 "nbformat_minor": 2
}
