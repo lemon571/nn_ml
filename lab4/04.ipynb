{
  "nbformat": 4,
  "nbformat_minor": 0,
  "metadata": {
    "colab": {
      "provenance": []
    },
    "kernelspec": {
      "name": "python3",
      "display_name": "Python 3"
    },
    "language_info": {
      "name": "python"
    }
  },
  "cells": [
    {
      "cell_type": "markdown",
      "source": [
        "## Лабораторная работа №4  \n",
        "ФИО: Брызгалова Юлия Александровна  \n",
        "Группа: БИВТ-21-4\n",
        "\n",
        "Исходные данные:\n",
        "Название датасета: Medical Cost Personal Datasets  \n",
        "Ссылка на датасет: https://www.kaggle.com/datasets/mirichoi0218/insurance\n",
        "\n",
        "Ход работы:\n",
        "1. Загрузить необходимые данные к себе и считать (read) их в переменную.\n",
        "2. Понять, у вас задача классификации (бинарной или многоклассовой) или регрессии.\n",
        "3. Сделать предобработку данных:  \n",
        "&nbsp; A. Разделить выборку на тренировочную (train) и тестовую (test). Обратите внимание, что обучать скейлеры и определять, какими значениями вы будете заполнять пропуски, вы будете на train выборке, а применять и на train, и на test.  \n",
        "&nbsp; B. Проверить пропуски в данных. Если они есть, заполнить одной из стратегий, предложенных в ноутбуке для семинара №3. P.S. Для численных и категориальных переменных будут разные стратегии.  \n",
        "&nbsp; C. Отнормировать численные переменные (StandardScaler, MinMaxScaler).  \n",
        "&nbsp; D. Закодировать категориальные признаки по одной из стратегий.  \n",
        "4. Оформить данные в виде класса Dataset из библиотеки torch (как на семинаре), а затем засунуть в Dataloader (как на семинаре).  \n",
        "5. Обучить на тренировочном множестве:  \n",
        "&nbsp; A. Очень простую однослойную нейросеть с оптимизатором SGD.\n",
        "&nbsp; B. Нейросеть посложнее (с 1 скрытым слоем) с оптимизатором Adam.\n",
        "&nbsp; C. Нейросеть еще сложнее (с 3+ скрытыми слоями) с оптимизатором Adam.\n",
        "6. Посчитайте loss на train и test множествах, в зависимости от эпохи обучения. Провизуализируйте это с помощью библиотеки matplotlib (выйдет так называемая learning curve, кривая обучения модели).\n",
        "7. Посчитайте метрики на train и test множествах:\n",
        "&nbsp; A. Для задачи классификации -- Accuracy\n",
        "&nbsp; B. Для задачи регрессии -- MAE\n",
        "8. Сравните метрики относительно train/test, так и относительно разных моделей. Ответьте на следующие вопросы:  \n",
        "&nbsp; A. Какая модель справилась лучше с поставленной задачей?  \n",
        "&nbsp; B. Имеет ли место переобучение?  \n",
        "&nbsp; C. Имеет ли место недообучение?  \n",
        "&nbsp; D. Как можно улучшить метрики моделей?"
      ],
      "metadata": {
        "id": "c4nxD1isB-1g"
      }
    },
    {
      "cell_type": "markdown",
      "source": [
        "Импорт библиотек"
      ],
      "metadata": {
        "id": "F-XlFC79CEjr"
      }
    },
    {
      "cell_type": "code",
      "source": [
        "import pandas as pd\n",
        "import numpy as np\n",
        "import torch\n",
        "import torch.nn as nn\n",
        "from torch.utils.data import Dataset, DataLoader\n",
        "import matplotlib.pyplot as plt"
      ],
      "metadata": {
        "id": "n6F1FZhXCJJs"
      },
      "execution_count": null,
      "outputs": []
    },
    {
      "cell_type": "markdown",
      "source": [
        "1. Импорт данных\n",
        "\n"
      ],
      "metadata": {
        "id": "rgtHqD-JC5Zb"
      }
    },
    {
      "cell_type": "code",
      "source": [
        "data = pd.read_csv('/content/insurance.csv', sep = ',')  # если нужно, можно поменять разделитель"
      ],
      "metadata": {
        "id": "OHrlI0q-C7mJ"
      },
      "execution_count": null,
      "outputs": []
    },
    {
      "cell_type": "markdown",
      "source": [
        "2. Задача регрессии - прогнозирование цен на медицинское страхование"
      ],
      "metadata": {
        "id": "bLVlqWo9DeIv"
      }
    },
    {
      "cell_type": "code",
      "source": [
        "data.info()"
      ],
      "metadata": {
        "colab": {
          "base_uri": "https://localhost:8080/"
        },
        "id": "1_42g1fzDi3o",
        "outputId": "b1fae4a0-7be5-4da4-99fa-da48964c5bb5"
      },
      "execution_count": null,
      "outputs": [
        {
          "output_type": "stream",
          "name": "stdout",
          "text": [
            "<class 'pandas.core.frame.DataFrame'>\n",
            "RangeIndex: 1338 entries, 0 to 1337\n",
            "Data columns (total 7 columns):\n",
            " #   Column    Non-Null Count  Dtype  \n",
            "---  ------    --------------  -----  \n",
            " 0   age       1338 non-null   int64  \n",
            " 1   sex       1338 non-null   object \n",
            " 2   bmi       1338 non-null   float64\n",
            " 3   children  1338 non-null   int64  \n",
            " 4   smoker    1338 non-null   object \n",
            " 5   region    1338 non-null   object \n",
            " 6   charges   1338 non-null   float64\n",
            "dtypes: float64(2), int64(2), object(3)\n",
            "memory usage: 73.3+ KB\n"
          ]
        }
      ]
    },
    {
      "cell_type": "code",
      "source": [
        "# Построение распределения charges - целевой переменной в виде гистограммы\n",
        "plt.figure(figsize = (8, 6))\n",
        "plt.hist(data['charges'], edgecolor = 'black', bins = 30)\n",
        "plt.title('Распределение целевой переменной')\n",
        "plt.xlabel('Charges')\n",
        "plt.ylabel('Count')\n",
        "plt.show()\n",
        "\n",
        "# Количество уникальных значений целевой переменной\n",
        "# nunique() - функция, вычисляющая кол-во уникальных записей\n",
        "unique_charges = data['charges'].nunique()\n",
        "print(f'Количество уникальных значений целевой переменной: {unique_charges}')\n",
        "data['charges'].unique()\n",
        "# value_counts() - функция, возвращающая частоту встречающихся значений\n",
        "data['charges'].value_counts()"
      ],
      "metadata": {
        "colab": {
          "base_uri": "https://localhost:8080/",
          "height": 807
        },
        "id": "Ih5GlVqiDy9x",
        "outputId": "d4468308-26d2-4af3-92eb-8e59d1108a6a"
      },
      "execution_count": null,
      "outputs": [
        {
          "output_type": "display_data",
          "data": {
            "text/plain": [
              "<Figure size 800x600 with 1 Axes>"
            ],
            "image/png": "[encoded data removed]"
          },
          "metadata": {}
        },
        {
          "output_type": "stream",
          "name": "stdout",
          "text": [
            "Количество уникальных значений целевой переменной: 1337\n"
          ]
        },
        {
          "output_type": "execute_result",
          "data": {
            "text/plain": [
              "charges\n",
              "1639.56310     2\n",
              "16884.92400    1\n",
              "29330.98315    1\n",
              "2221.56445     1\n",
              "19798.05455    1\n",
              "              ..\n",
              "7345.08400     1\n",
              "26109.32905    1\n",
              "28287.89766    1\n",
              "1149.39590     1\n",
              "29141.36030    1\n",
              "Name: count, Length: 1337, dtype: int64"
            ]
          },
          "metadata": {},
          "execution_count": 195
        }
      ]
    },
    {
      "cell_type": "markdown",
      "source": [
        "3. Предобработка данных"
      ],
      "metadata": {
        "id": "r2QkIB_YEGpv"
      }
    },
    {
      "cell_type": "markdown",
      "source": [
        "A. Деление выборки на train и test множества"
      ],
      "metadata": {
        "id": "Aw_IIhboFVzX"
      }
    },
    {
      "cell_type": "code",
      "source": [
        "# Деление выборки на train и test\n",
        "from sklearn.model_selection import train_test_split\n",
        "\n",
        "X = data.drop('charges', axis=1)\n",
        "y = data['charges']\n",
        "X_train, X_test, y_train, y_test = train_test_split(X, y, test_size=0.2, random_state=42)\n"
      ],
      "metadata": {
        "id": "UDT7eP4IFan5"
      },
      "execution_count": null,
      "outputs": []
    },
    {
      "cell_type": "markdown",
      "source": [
        "B. Проверка пропусков в данных  \n",
        "**Данные полные*"
      ],
      "metadata": {
        "id": "VmUZWBvVFdsV"
      }
    },
    {
      "cell_type": "code",
      "source": [
        "# Пропуски данных\n",
        "print(f\"Пропущенные значения в данных: {X_train.isnull().sum().sum()}\")\n",
        "print(f\"Пропущенные значения в данных: {y_train.isnull().sum().sum()}\")"
      ],
      "metadata": {
        "id": "IGLxLlOMFh3v",
        "colab": {
          "base_uri": "https://localhost:8080/"
        },
        "outputId": "7241097c-2408-4e3b-bd3a-cfb00c6fb24a"
      },
      "execution_count": null,
      "outputs": [
        {
          "output_type": "stream",
          "name": "stdout",
          "text": [
            "Пропущенные значения в данных: 0\n",
            "Пропущенные значения в данных: 0\n"
          ]
        }
      ]
    },
    {
      "cell_type": "markdown",
      "source": [
        "C. Отнормировать численные переменные (StandartScaler)"
      ],
      "metadata": {
        "id": "rR_slgNGFkQI"
      }
    },
    {
      "cell_type": "code",
      "source": [
        "# Отнормировать численные переменные\n",
        "from sklearn.preprocessing import StandardScaler\n",
        "\n",
        "scaler = StandardScaler()\n",
        "X_train[['age', 'bmi', 'children']] = scaler.fit_transform(X_train[['age', 'bmi', 'children']])\n",
        "X_test[['age', 'bmi', 'children']] = scaler.transform(X_test[['age', 'bmi', 'children']])\n"
      ],
      "metadata": {
        "id": "k9d1dvU0FPpm"
      },
      "execution_count": null,
      "outputs": []
    },
    {
      "cell_type": "markdown",
      "source": [
        "D. Закодировать категориальные признаки (LabelEncoder)\n",
        "\n"
      ],
      "metadata": {
        "id": "QkWDXhoClqU9"
      }
    },
    {
      "cell_type": "code",
      "source": [
        "# Закодировать категориальные признаки\n",
        "from sklearn.preprocessing import LabelEncoder\n",
        "\n",
        "encoder = LabelEncoder()\n",
        "X_train['sex'] = encoder.fit_transform(X_train['sex'])\n",
        "X_test['sex'] = encoder.transform(X_test['sex'])\n",
        "X_train['smoker'] = encoder.fit_transform(X_train['smoker'])\n",
        "X_test['smoker'] = encoder.transform(X_test['smoker'])\n",
        "X_train['region'] = encoder.fit_transform(X_train['region'])\n",
        "X_test['region'] = encoder.transform(X_test['region'])"
      ],
      "metadata": {
        "id": "M7jOFOndEJnn"
      },
      "execution_count": null,
      "outputs": []
    },
    {
      "cell_type": "markdown",
      "source": [
        "4. Оформить данные в виде класса Dataset из библиотеки torch, затем засунуть в Dataloader (как на семинаре)"
      ],
      "metadata": {
        "id": "LbDBx_q4GdV9"
      }
    },
    {
      "cell_type": "code",
      "source": [
        "#device = \"cuda\" if torch.cuda.is_available() else \"cpu\"\n",
        "#print(f\"Using {device} device\")"
      ],
      "metadata": {
        "colab": {
          "base_uri": "https://localhost:8080/"
        },
        "id": "qD_63QUWG63v",
        "outputId": "c3630036-7057-4abf-827b-6845ed87b467"
      },
      "execution_count": null,
      "outputs": [
        {
          "output_type": "stream",
          "name": "stdout",
          "text": [
            "Using cpu device\n"
          ]
        }
      ]
    },
    {
      "cell_type": "code",
      "source": [
        "# Создание Dataset и DataLoader\n",
        "from torch.utils.data import Dataset\n",
        "from torch.utils.data import DataLoader\n",
        "\n",
        "class MedicalCostPersonalDatasets(Dataset):\n",
        "  def __init__(self, X, y):\n",
        "    self.X = torch.tensor(X_train.values, dtype=torch.float32)\n",
        "    self.y = torch.tensor(y_train.values, dtype=torch.float32)\n",
        "  def __len__(self):\n",
        "    return len(self.X)\n",
        "  def __getitem__(self, idx):\n",
        "    return self.X[idx], self.y[idx]\n",
        "\n",
        "train_dataset = MedicalCostPersonalDatasets(X_train, y_train)\n",
        "test_dataset = MedicalCostPersonalDatasets(X_test, y_test)\n",
        "\n",
        "train_dataloader = DataLoader(train_dataset, batch_size=64, shuffle=True)\n",
        "test_dataloader = DataLoader(test_dataset, batch_size=64, shuffle=False)\n"
      ],
      "metadata": {
        "id": "PVaHS2h1Gqv3"
      },
      "execution_count": null,
      "outputs": []
    },
    {
      "cell_type": "markdown",
      "source": [
        "5. Обучение на тренировочном множестве\n",
        "* A. Однослойная нейросеть с оптимизатором SGD"
      ],
      "metadata": {
        "id": "Z3piWIdxG5Zg"
      }
    },
    {
      "cell_type": "code",
      "source": [
        "# 5. Обучение модели на тренировочном множестве\n",
        "# а) Однослойная нейросеть с оптимизатором SGD\n",
        "\n",
        "class SingleNetwork(nn.Module):\n",
        "  def __init__(self):\n",
        "    super(SingleNetwork, self).__init__()\n",
        "    self.fc = nn.Linear(X_train.shape[1], 1)\n",
        "\n",
        "  def forward(self, x):\n",
        "    x = self.fc(x)\n",
        "    return x\n",
        "\n",
        "model = SingleNetwork()\n",
        "print(model)"
      ],
      "metadata": {
        "colab": {
          "base_uri": "https://localhost:8080/"
        },
        "id": "sphJ6W_ppWnG",
        "outputId": "c99a526f-2048-4e07-d42e-c981fffb1953"
      },
      "execution_count": null,
      "outputs": [
        {
          "output_type": "stream",
          "name": "stdout",
          "text": [
            "SingleNetwork(\n",
            "  (fc): Linear(in_features=6, out_features=1, bias=True)\n",
            ")\n"
          ]
        }
      ]
    },
    {
      "cell_type": "markdown",
      "source": [
        "6. Посчитать loss на train и test множествах, в зависимости от эпохи\n",
        "* A. Однослойная нейросеть с оптимизатором SGD"
      ],
      "metadata": {
        "id": "O6XUJCvj_RMx"
      }
    },
    {
      "cell_type": "code",
      "source": [
        "# Вычислить Loss на trai и test множествах, в зависимости от эпохи обучения - learning curve\n",
        "# а) Однослойная нейросеть с оптимизатором SGD\n",
        "\n",
        "model = SingleNetwork()\n",
        "# MAE loss\n",
        "criterion = nn.L1Loss()\n",
        "epoch = 100\n",
        "learning_rate = 1e-3\n",
        "optimizer = torch.optim.SGD(model.parameters(), lr = learning_rate)\n",
        "\n",
        "train_losses, test_losses = [], []\n",
        "\n",
        "for i in range(epoch):\n",
        "  train_loss = 0.0\n",
        "  for X_train, y_train in train_dataloader:\n",
        "    model.train()\n",
        "    # Зануляем градиенты\n",
        "    optimizer.zero_grad()\n",
        "    # Считаем предсказание\n",
        "    outputs = model(X_train)\n",
        "    # Считаем лосс\n",
        "    loss = criterion(outputs, y_train)\n",
        "    # Прокидываем градиенты\n",
        "    loss.backward()\n",
        "    # Делаем шаг оптимизатором\n",
        "    optimizer.step()\n",
        "    train_loss += loss.item()\n",
        "  test_loss = 0.0\n",
        "  for X_test, y_test in test_dataloader:\n",
        "    model.eval()\n",
        "    outputs = model(X_test)\n",
        "    loss = criterion(outputs, y_test)\n",
        "    test_loss += loss.item()\n",
        "  print(f\"Epoch {i+1}, Loss_train: {train_loss / len(train_dataloader):.4f}, Loss_test: {test_loss / len(test_dataloader):.4f}\")\n",
        "  train_losses.append(train_loss / len(train_dataloader))\n",
        "  test_losses.append(test_loss / len(test_dataloader))\n",
        "\n",
        "plt.figure()\n",
        "plt.plot(train_losses, label='Train Loss')\n",
        "plt.plot(test_losses, label='Test Loss')\n",
        "plt.title('Однослойная нейросеть')\n",
        "plt.legend()\n",
        "plt.show()"
      ],
      "metadata": {
        "colab": {
          "base_uri": "https://localhost:8080/",
          "height": 1000
        },
        "collapsed": true,
        "id": "Qhd5u7Hypd2K",
        "outputId": "0b273473-99fa-46ce-dc1a-132ec64c020c"
      },
      "execution_count": null,
      "outputs": [
        {
          "output_type": "stream",
          "name": "stderr",
          "text": [
            "/usr/local/lib/python3.10/dist-packages/torch/nn/modules/loss.py:101: UserWarning: Using a target size (torch.Size([64])) that is different to the input size (torch.Size([64, 1])). This will likely lead to incorrect results due to broadcasting. Please ensure they have the same size.\n",
            "  return F.l1_loss(input, target, reduction=self.reduction)\n",
            "/usr/local/lib/python3.10/dist-packages/torch/nn/modules/loss.py:101: UserWarning: Using a target size (torch.Size([46])) that is different to the input size (torch.Size([46, 1])). This will likely lead to incorrect results due to broadcasting. Please ensure they have the same size.\n",
            "  return F.l1_loss(input, target, reduction=self.reduction)\n"
          ]
        },
        {
          "output_type": "stream",
          "name": "stdout",
          "text": [
            "Epoch 1, Loss_train: 13290.6815, Loss_test: 13339.4656\n",
            "Epoch 2, Loss_train: 13321.0645, Loss_test: 13339.4046\n",
            "Epoch 3, Loss_train: 13353.3227, Loss_test: 13339.3437\n",
            "Epoch 4, Loss_train: 13311.5997, Loss_test: 13339.2832\n",
            "Epoch 5, Loss_train: 13362.9493, Loss_test: 13339.2224\n",
            "Epoch 6, Loss_train: 13321.5816, Loss_test: 13339.1613\n",
            "Epoch 7, Loss_train: 13367.0210, Loss_test: 13339.1008\n",
            "Epoch 8, Loss_train: 13371.0755, Loss_test: 13339.0398\n",
            "Epoch 9, Loss_train: 13391.7069, Loss_test: 13338.9793\n",
            "Epoch 10, Loss_train: 13357.5215, Loss_test: 13338.9184\n",
            "Epoch 11, Loss_train: 13330.1132, Loss_test: 13338.8575\n",
            "Epoch 12, Loss_train: 13388.0592, Loss_test: 13338.7972\n",
            "Epoch 13, Loss_train: 13372.0875, Loss_test: 13338.7363\n",
            "Epoch 14, Loss_train: 13315.8504, Loss_test: 13338.6754\n",
            "Epoch 15, Loss_train: 13321.4983, Loss_test: 13338.6147\n",
            "Epoch 16, Loss_train: 13331.9886, Loss_test: 13338.5543\n",
            "Epoch 17, Loss_train: 13316.6414, Loss_test: 13338.4932\n",
            "Epoch 18, Loss_train: 13355.2943, Loss_test: 13338.4326\n",
            "Epoch 19, Loss_train: 13324.1473, Loss_test: 13338.3721\n",
            "Epoch 20, Loss_train: 13309.3421, Loss_test: 13338.3112\n",
            "Epoch 21, Loss_train: 13334.7016, Loss_test: 13338.2505\n",
            "Epoch 22, Loss_train: 13364.7952, Loss_test: 13338.1899\n",
            "Epoch 23, Loss_train: 13339.0323, Loss_test: 13338.1290\n",
            "Epoch 24, Loss_train: 13370.2439, Loss_test: 13338.0683\n",
            "Epoch 25, Loss_train: 13404.7202, Loss_test: 13338.0073\n",
            "Epoch 26, Loss_train: 13359.2011, Loss_test: 13337.9467\n",
            "Epoch 27, Loss_train: 13315.3222, Loss_test: 13337.8860\n",
            "Epoch 28, Loss_train: 13351.9567, Loss_test: 13337.8252\n",
            "Epoch 29, Loss_train: 13351.3674, Loss_test: 13337.7644\n",
            "Epoch 30, Loss_train: 13325.2178, Loss_test: 13337.7034\n",
            "Epoch 31, Loss_train: 13342.1900, Loss_test: 13337.6431\n",
            "Epoch 32, Loss_train: 13385.7814, Loss_test: 13337.5820\n",
            "Epoch 33, Loss_train: 13375.0859, Loss_test: 13337.5215\n",
            "Epoch 34, Loss_train: 13332.1186, Loss_test: 13337.4608\n",
            "Epoch 35, Loss_train: 13318.9419, Loss_test: 13337.4001\n",
            "Epoch 36, Loss_train: 13322.6687, Loss_test: 13337.3392\n",
            "Epoch 37, Loss_train: 13339.4338, Loss_test: 13337.2783\n",
            "Epoch 38, Loss_train: 13343.5174, Loss_test: 13337.2179\n",
            "Epoch 39, Loss_train: 13419.3739, Loss_test: 13337.1567\n",
            "Epoch 40, Loss_train: 13355.0142, Loss_test: 13337.0960\n",
            "Epoch 41, Loss_train: 13360.0324, Loss_test: 13337.0352\n",
            "Epoch 42, Loss_train: 13374.1072, Loss_test: 13336.9743\n",
            "Epoch 43, Loss_train: 13362.1590, Loss_test: 13336.9135\n",
            "Epoch 44, Loss_train: 13284.8128, Loss_test: 13336.8528\n",
            "Epoch 45, Loss_train: 13365.9957, Loss_test: 13336.7919\n",
            "Epoch 46, Loss_train: 13374.2002, Loss_test: 13336.7312\n",
            "Epoch 47, Loss_train: 13309.0514, Loss_test: 13336.6704\n",
            "Epoch 48, Loss_train: 13352.5232, Loss_test: 13336.6096\n",
            "Epoch 49, Loss_train: 13409.9074, Loss_test: 13336.5489\n",
            "Epoch 50, Loss_train: 13314.1442, Loss_test: 13336.4881\n",
            "Epoch 51, Loss_train: 13322.7633, Loss_test: 13336.4276\n",
            "Epoch 52, Loss_train: 13353.2351, Loss_test: 13336.3663\n",
            "Epoch 53, Loss_train: 13341.0237, Loss_test: 13336.3056\n",
            "Epoch 54, Loss_train: 13351.3988, Loss_test: 13336.2451\n",
            "Epoch 55, Loss_train: 13357.4605, Loss_test: 13336.1845\n",
            "Epoch 56, Loss_train: 13345.0090, Loss_test: 13336.1237\n",
            "Epoch 57, Loss_train: 13396.0740, Loss_test: 13336.0626\n",
            "Epoch 58, Loss_train: 13343.8257, Loss_test: 13336.0017\n",
            "Epoch 59, Loss_train: 13323.6526, Loss_test: 13335.9411\n",
            "Epoch 60, Loss_train: 13385.7265, Loss_test: 13335.8801\n",
            "Epoch 61, Loss_train: 13306.6506, Loss_test: 13335.8195\n",
            "Epoch 62, Loss_train: 13330.9565, Loss_test: 13335.7589\n",
            "Epoch 63, Loss_train: 13333.7022, Loss_test: 13335.6980\n",
            "Epoch 64, Loss_train: 13309.7381, Loss_test: 13335.6371\n",
            "Epoch 65, Loss_train: 13355.9099, Loss_test: 13335.5765\n",
            "Epoch 66, Loss_train: 13351.7354, Loss_test: 13335.5157\n",
            "Epoch 67, Loss_train: 13283.8950, Loss_test: 13335.4551\n",
            "Epoch 68, Loss_train: 13362.7700, Loss_test: 13335.3943\n",
            "Epoch 69, Loss_train: 13405.6865, Loss_test: 13335.3335\n",
            "Epoch 70, Loss_train: 13354.2832, Loss_test: 13335.2728\n",
            "Epoch 71, Loss_train: 13341.8108, Loss_test: 13335.2119\n",
            "Epoch 72, Loss_train: 13329.8667, Loss_test: 13335.1511\n",
            "Epoch 73, Loss_train: 13363.2868, Loss_test: 13335.0905\n",
            "Epoch 74, Loss_train: 13375.0963, Loss_test: 13335.0297\n",
            "Epoch 75, Loss_train: 13356.9783, Loss_test: 13334.9690\n",
            "Epoch 76, Loss_train: 13334.3197, Loss_test: 13334.9082\n",
            "Epoch 77, Loss_train: 13350.1789, Loss_test: 13334.8478\n",
            "Epoch 78, Loss_train: 13372.8652, Loss_test: 13334.7869\n",
            "Epoch 79, Loss_train: 13341.2947, Loss_test: 13334.7262\n",
            "Epoch 80, Loss_train: 13405.0664, Loss_test: 13334.6654\n",
            "Epoch 81, Loss_train: 13293.7339, Loss_test: 13334.6044\n",
            "Epoch 82, Loss_train: 13346.6479, Loss_test: 13334.5434\n",
            "Epoch 83, Loss_train: 13370.0797, Loss_test: 13334.4831\n",
            "Epoch 84, Loss_train: 13355.1499, Loss_test: 13334.4222\n",
            "Epoch 85, Loss_train: 13342.0993, Loss_test: 13334.3613\n",
            "Epoch 86, Loss_train: 13341.4467, Loss_test: 13334.3002\n",
            "Epoch 87, Loss_train: 13304.8356, Loss_test: 13334.2398\n",
            "Epoch 88, Loss_train: 13373.4700, Loss_test: 13334.1788\n",
            "Epoch 89, Loss_train: 13290.6546, Loss_test: 13334.1179\n",
            "Epoch 90, Loss_train: 13363.3841, Loss_test: 13334.0569\n",
            "Epoch 91, Loss_train: 13366.6434, Loss_test: 13333.9965\n",
            "Epoch 92, Loss_train: 13352.5504, Loss_test: 13333.9355\n",
            "Epoch 93, Loss_train: 13286.9953, Loss_test: 13333.8749\n",
            "Epoch 94, Loss_train: 13344.8348, Loss_test: 13333.8138\n",
            "Epoch 95, Loss_train: 13326.5276, Loss_test: 13333.7533\n",
            "Epoch 96, Loss_train: 13391.9490, Loss_test: 13333.6928\n",
            "Epoch 97, Loss_train: 13366.8335, Loss_test: 13333.6318\n",
            "Epoch 98, Loss_train: 13343.8914, Loss_test: 13333.5711\n",
            "Epoch 99, Loss_train: 13343.8320, Loss_test: 13333.5104\n",
            "Epoch 100, Loss_train: 13324.7475, Loss_test: 13333.4494\n"
          ]
        },
        {
          "output_type": "display_data",
          "data": {
            "text/plain": [
              "<Figure size 640x480 with 1 Axes>"
            ],
            "image/png": "[encoded data removed]"
          },
          "metadata": {}
        }
      ]
    },
    {
      "cell_type": "markdown",
      "source": [
        "7. Посчитать метрики на train и test множествах: для задачи регрессии -- MAE\n",
        "* A. Однослойная нейросеть с оптимизатором SGD"
      ],
      "metadata": {
        "id": "LYZOtSeJB2cU"
      }
    },
    {
      "cell_type": "code",
      "source": [
        "# Посчитать метрики на train и test множествах\n",
        "# а) Однослойная нейросеть с оптимизатором SGD\n",
        "from sklearn.metrics import mean_absolute_error\n",
        "\n",
        "model = SingleNetwork()\n",
        "def evaluate_model(model, loader):\n",
        "    model.eval()\n",
        "    true_values = []\n",
        "    pred_values = []\n",
        "    with torch.no_grad():\n",
        "        for X_train, y_train in train_dataloader:\n",
        "            pred = model(X_train)\n",
        "            true_values.extend(y_train.numpy())\n",
        "            pred_values.extend(pred.numpy().flatten())\n",
        "    mae = mean_absolute_error(true_values, pred_values)\n",
        "    return mae\n",
        "\n",
        "train_mae = evaluate_model(model, train_dataloader)\n",
        "test_mae = evaluate_model(model, test_dataloader)\n",
        "print(f\"Train MAE: {train_mae:.4f}\")\n",
        "print(f\"Test MAE: {test_mae:.4f}\")"
      ],
      "metadata": {
        "colab": {
          "base_uri": "https://localhost:8080/"
        },
        "id": "eEJRDaxdrQ6U",
        "outputId": "abacc732-aa94-49b7-b7d1-4b6ecfc8508a"
      },
      "execution_count": null,
      "outputs": [
        {
          "output_type": "stream",
          "name": "stdout",
          "text": [
            "Train MAE: 13346.3164\n",
            "Test MAE: 13346.3164\n"
          ]
        }
      ]
    },
    {
      "cell_type": "markdown",
      "source": [
        "5. Обучение на тренировочном множестве\n",
        "* B. Нейросеть с 1 скрытым слоем и оптимизатором Adam"
      ],
      "metadata": {
        "id": "m7IPjb8dC60W"
      }
    },
    {
      "cell_type": "code",
      "source": [
        "# 5. Обучение моделей\n",
        "# б) Нейросеть с одним скрытым слоем с оптимизатором Adam\n",
        "\n",
        "class NeuralNetwork(nn.Module):\n",
        "  def __init__(self):\n",
        "    super(NeuralNetwork, self).__init__()\n",
        "    self.fc1 = nn.Linear(X_train.shape[1], 64)\n",
        "    self.relu = nn.ReLU()\n",
        "    self.fc2 = nn.Linear(64, 1)\n",
        "\n",
        "  def forward(self, x):\n",
        "    x = self.fc1(x)\n",
        "    x = self.relu(x)\n",
        "    x = self.fc2(x)\n",
        "    return x\n",
        "\n",
        "model = NeuralNetwork()\n",
        "print(model)"
      ],
      "metadata": {
        "colab": {
          "base_uri": "https://localhost:8080/"
        },
        "id": "aWMpr9zAtycD",
        "outputId": "8d55c82e-f55e-4fde-c1b6-620e8f8c23c4"
      },
      "execution_count": null,
      "outputs": [
        {
          "output_type": "stream",
          "name": "stdout",
          "text": [
            "NeuralNetwork(\n",
            "  (fc1): Linear(in_features=6, out_features=64, bias=True)\n",
            "  (relu): ReLU()\n",
            "  (fc2): Linear(in_features=64, out_features=1, bias=True)\n",
            ")\n"
          ]
        }
      ]
    },
    {
      "cell_type": "markdown",
      "source": [
        "6. Посчитать loss на train и test множествах, в зависимости от эпохи\n",
        "* B. Нейросеть с 1 скрытым слоем и оптимизатором Adam"
      ],
      "metadata": {
        "id": "AAs4Eo6tDg3D"
      }
    },
    {
      "cell_type": "code",
      "source": [
        "# Вычислить Loss на trai и test множествах, в зависимости от эпохи обучения - learning curve\n",
        "# б) Нейросеть с одним скрытым слоем с оптимизатором Adam\n",
        "import torch\n",
        "\n",
        "model = NeuralNetwork()\n",
        "# MAE loss\n",
        "criterion = nn.L1Loss()\n",
        "epoch = 150\n",
        "learning_rate = 1e-3\n",
        "optimizer = torch.optim.Adam(model.parameters(), lr=learning_rate)\n",
        "\n",
        "train_losses, test_losses = [], []\n",
        "\n",
        "for i in range(epoch):\n",
        "  train_loss = 0.0\n",
        "  for X_train, y_train in train_dataloader:\n",
        "    model.train()\n",
        "    optimizer.zero_grad()\n",
        "    outputs = model(X_train)\n",
        "    loss = criterion(outputs, y_train)\n",
        "    loss.backward()\n",
        "    optimizer.step()\n",
        "    train_loss += loss.item()\n",
        "  test_loss = 0.0\n",
        "  for X_test, y_test in test_dataloader:\n",
        "    model.eval()\n",
        "    outputs = model(X_test)\n",
        "    loss = criterion(outputs, y_test)\n",
        "    test_loss += loss.item()\n",
        "  print(f\"Epoch {i+1}, Loss_train: {train_loss / len(train_dataloader):.4f}, Loss_test: {test_loss / len(test_dataloader):.4f}\")\n",
        "  train_losses.append(train_loss / len(train_dataloader))\n",
        "  test_losses.append(test_loss / len(test_dataloader))\n",
        "\n",
        "plt.figure()\n",
        "plt.plot(train_losses, label='Train Loss')\n",
        "plt.plot(test_losses, label='Test Loss')\n",
        "plt.title('Нейросеть с одним скрытым слоем')\n",
        "plt.legend()\n",
        "plt.show()"
      ],
      "metadata": {
        "colab": {
          "base_uri": "https://localhost:8080/",
          "height": 1000
        },
        "collapsed": true,
        "id": "yKaMCQHhuF05",
        "outputId": "fe2ad6f2-3b63-4e6a-c4c5-a8165c97c533"
      },
      "execution_count": null,
      "outputs": [
        {
          "output_type": "stream",
          "name": "stderr",
          "text": [
            "/usr/local/lib/python3.10/dist-packages/torch/nn/modules/loss.py:101: UserWarning: Using a target size (torch.Size([64])) that is different to the input size (torch.Size([64, 1])). This will likely lead to incorrect results due to broadcasting. Please ensure they have the same size.\n",
            "  return F.l1_loss(input, target, reduction=self.reduction)\n",
            "/usr/local/lib/python3.10/dist-packages/torch/nn/modules/loss.py:101: UserWarning: Using a target size (torch.Size([46])) that is different to the input size (torch.Size([46, 1])). This will likely lead to incorrect results due to broadcasting. Please ensure they have the same size.\n",
            "  return F.l1_loss(input, target, reduction=self.reduction)\n"
          ]
        },
        {
          "output_type": "stream",
          "name": "stdout",
          "text": [
            "Epoch 1, Loss_train: 13397.3234, Loss_test: 13338.8226\n",
            "Epoch 2, Loss_train: 13300.0179, Loss_test: 13338.3440\n",
            "Epoch 3, Loss_train: 13387.5129, Loss_test: 13337.7967\n",
            "Epoch 4, Loss_train: 13380.5541, Loss_test: 13337.1443\n",
            "Epoch 5, Loss_train: 13325.9569, Loss_test: 13336.3555\n",
            "Epoch 6, Loss_train: 13360.4779, Loss_test: 13335.4061\n",
            "Epoch 7, Loss_train: 13295.3417, Loss_test: 13334.2565\n",
            "Epoch 8, Loss_train: 13324.9933, Loss_test: 13332.8891\n",
            "Epoch 9, Loss_train: 13347.0790, Loss_test: 13331.2674\n",
            "Epoch 10, Loss_train: 13366.1434, Loss_test: 13329.3709\n",
            "Epoch 11, Loss_train: 13323.7552, Loss_test: 13327.1581\n",
            "Epoch 12, Loss_train: 13320.7291, Loss_test: 13324.6391\n",
            "Epoch 13, Loss_train: 13336.3693, Loss_test: 13321.7797\n",
            "Epoch 14, Loss_train: 13338.5473, Loss_test: 13318.5728\n",
            "Epoch 15, Loss_train: 13361.3604, Loss_test: 13315.0026\n",
            "Epoch 16, Loss_train: 13309.8917, Loss_test: 13311.0443\n",
            "Epoch 17, Loss_train: 13319.5022, Loss_test: 13306.6641\n",
            "Epoch 18, Loss_train: 13345.3940, Loss_test: 13301.9055\n",
            "Epoch 19, Loss_train: 13331.4608, Loss_test: 13296.7181\n",
            "Epoch 20, Loss_train: 13339.2538, Loss_test: 13291.1132\n",
            "Epoch 21, Loss_train: 13278.2176, Loss_test: 13285.1501\n",
            "Epoch 22, Loss_train: 13274.3414, Loss_test: 13278.7615\n",
            "Epoch 23, Loss_train: 13277.3181, Loss_test: 13272.0452\n",
            "Epoch 24, Loss_train: 13253.8568, Loss_test: 13264.9584\n",
            "Epoch 25, Loss_train: 13219.4103, Loss_test: 13257.5755\n",
            "Epoch 26, Loss_train: 13278.2948, Loss_test: 13249.8140\n",
            "Epoch 27, Loss_train: 13233.3325, Loss_test: 13241.7603\n",
            "Epoch 28, Loss_train: 13226.9314, Loss_test: 13233.3835\n",
            "Epoch 29, Loss_train: 13241.3842, Loss_test: 13224.7435\n",
            "Epoch 30, Loss_train: 13225.8930, Loss_test: 13215.7514\n",
            "Epoch 31, Loss_train: 13213.9318, Loss_test: 13206.4814\n",
            "Epoch 32, Loss_train: 13248.7914, Loss_test: 13196.9038\n",
            "Epoch 33, Loss_train: 13201.2830, Loss_test: 13187.0275\n",
            "Epoch 34, Loss_train: 13190.8646, Loss_test: 13176.8104\n",
            "Epoch 35, Loss_train: 13151.5475, Loss_test: 13166.4141\n",
            "Epoch 36, Loss_train: 13176.4175, Loss_test: 13155.6949\n",
            "Epoch 37, Loss_train: 13210.7286, Loss_test: 13144.6266\n",
            "Epoch 38, Loss_train: 13112.5599, Loss_test: 13133.3552\n",
            "Epoch 39, Loss_train: 13162.6275, Loss_test: 13121.8423\n",
            "Epoch 40, Loss_train: 13108.8936, Loss_test: 13109.9412\n",
            "Epoch 41, Loss_train: 13106.0504, Loss_test: 13097.8717\n",
            "Epoch 42, Loss_train: 13087.1746, Loss_test: 13085.5208\n",
            "Epoch 43, Loss_train: 13070.0035, Loss_test: 13072.8399\n",
            "Epoch 44, Loss_train: 13122.7257, Loss_test: 13060.0126\n",
            "Epoch 45, Loss_train: 13024.8869, Loss_test: 13046.8043\n",
            "Epoch 46, Loss_train: 13030.6648, Loss_test: 13033.3346\n",
            "Epoch 47, Loss_train: 12998.9994, Loss_test: 13019.5811\n",
            "Epoch 48, Loss_train: 12998.0371, Loss_test: 13005.6893\n",
            "Epoch 49, Loss_train: 13039.5078, Loss_test: 12991.5094\n",
            "Epoch 50, Loss_train: 13012.6550, Loss_test: 12976.9804\n",
            "Epoch 51, Loss_train: 12937.5041, Loss_test: 12962.3720\n",
            "Epoch 52, Loss_train: 12928.3625, Loss_test: 12947.4316\n",
            "Epoch 53, Loss_train: 12925.0596, Loss_test: 12932.2298\n",
            "Epoch 54, Loss_train: 12948.4736, Loss_test: 12916.7683\n",
            "Epoch 55, Loss_train: 12934.4574, Loss_test: 12901.0229\n",
            "Epoch 56, Loss_train: 12857.6950, Loss_test: 12885.0931\n",
            "Epoch 57, Loss_train: 12871.1696, Loss_test: 12868.8932\n",
            "Epoch 58, Loss_train: 12846.6857, Loss_test: 12852.5369\n",
            "Epoch 59, Loss_train: 12827.7147, Loss_test: 12835.9039\n",
            "Epoch 60, Loss_train: 12816.3084, Loss_test: 12818.9955\n",
            "Epoch 61, Loss_train: 12790.5252, Loss_test: 12801.8518\n",
            "Epoch 62, Loss_train: 12818.1600, Loss_test: 12784.4805\n",
            "Epoch 63, Loss_train: 12819.8633, Loss_test: 12766.8750\n",
            "Epoch 64, Loss_train: 12792.1925, Loss_test: 12748.8886\n",
            "Epoch 65, Loss_train: 12787.4630, Loss_test: 12730.8945\n",
            "Epoch 66, Loss_train: 12743.2626, Loss_test: 12712.6730\n",
            "Epoch 67, Loss_train: 12772.4318, Loss_test: 12694.0701\n",
            "Epoch 68, Loss_train: 12715.7129, Loss_test: 12675.2524\n",
            "Epoch 69, Loss_train: 12684.2369, Loss_test: 12656.2947\n",
            "Epoch 70, Loss_train: 12646.9154, Loss_test: 12637.2342\n",
            "Epoch 71, Loss_train: 12631.1284, Loss_test: 12617.9009\n",
            "Epoch 72, Loss_train: 12614.3795, Loss_test: 12598.2994\n",
            "Epoch 73, Loss_train: 12634.2134, Loss_test: 12578.6265\n",
            "Epoch 74, Loss_train: 12534.9622, Loss_test: 12558.6285\n",
            "Epoch 75, Loss_train: 12557.0882, Loss_test: 12538.4612\n",
            "Epoch 76, Loss_train: 12563.5672, Loss_test: 12518.1793\n",
            "Epoch 77, Loss_train: 12508.8815, Loss_test: 12497.8528\n",
            "Epoch 78, Loss_train: 12458.8637, Loss_test: 12477.1253\n",
            "Epoch 79, Loss_train: 12478.8632, Loss_test: 12456.3957\n",
            "Epoch 80, Loss_train: 12459.7868, Loss_test: 12435.3960\n",
            "Epoch 81, Loss_train: 12461.8923, Loss_test: 12414.3080\n",
            "Epoch 82, Loss_train: 12445.1288, Loss_test: 12393.1069\n",
            "Epoch 83, Loss_train: 12378.2754, Loss_test: 12371.5589\n",
            "Epoch 84, Loss_train: 12335.2139, Loss_test: 12350.1550\n",
            "Epoch 85, Loss_train: 12379.6629, Loss_test: 12328.5200\n",
            "Epoch 86, Loss_train: 12321.2849, Loss_test: 12306.8280\n",
            "Epoch 87, Loss_train: 12300.4609, Loss_test: 12284.9916\n",
            "Epoch 88, Loss_train: 12270.2792, Loss_test: 12263.0694\n",
            "Epoch 89, Loss_train: 12271.9897, Loss_test: 12241.2253\n",
            "Epoch 90, Loss_train: 12217.6598, Loss_test: 12219.2135\n",
            "Epoch 91, Loss_train: 12257.1195, Loss_test: 12197.1805\n",
            "Epoch 92, Loss_train: 12171.4568, Loss_test: 12174.9490\n",
            "Epoch 93, Loss_train: 12129.6835, Loss_test: 12152.6769\n",
            "Epoch 94, Loss_train: 12202.3582, Loss_test: 12130.3350\n",
            "Epoch 95, Loss_train: 12115.4868, Loss_test: 12107.9279\n",
            "Epoch 96, Loss_train: 12059.5361, Loss_test: 12085.2988\n",
            "Epoch 97, Loss_train: 12034.4551, Loss_test: 12062.7937\n",
            "Epoch 98, Loss_train: 12099.3884, Loss_test: 12040.3926\n",
            "Epoch 99, Loss_train: 12038.7596, Loss_test: 12017.8907\n",
            "Epoch 100, Loss_train: 12047.9516, Loss_test: 11995.5275\n",
            "Epoch 101, Loss_train: 11957.6799, Loss_test: 11973.1278\n",
            "Epoch 102, Loss_train: 11964.8121, Loss_test: 11951.0235\n",
            "Epoch 103, Loss_train: 11926.3156, Loss_test: 11928.8081\n",
            "Epoch 104, Loss_train: 11976.9936, Loss_test: 11906.6542\n",
            "Epoch 105, Loss_train: 11938.8036, Loss_test: 11884.5827\n",
            "Epoch 106, Loss_train: 11840.6273, Loss_test: 11862.1599\n",
            "Epoch 107, Loss_train: 11859.9656, Loss_test: 11839.9451\n",
            "Epoch 108, Loss_train: 11813.8979, Loss_test: 11817.6182\n",
            "Epoch 109, Loss_train: 11821.2897, Loss_test: 11795.1504\n",
            "Epoch 110, Loss_train: 11740.4986, Loss_test: 11772.8304\n",
            "Epoch 111, Loss_train: 11747.6410, Loss_test: 11750.4778\n",
            "Epoch 112, Loss_train: 11740.8387, Loss_test: 11728.0878\n",
            "Epoch 113, Loss_train: 11724.0717, Loss_test: 11705.6561\n",
            "Epoch 114, Loss_train: 11680.2178, Loss_test: 11683.1918\n",
            "Epoch 115, Loss_train: 11622.3091, Loss_test: 11660.9222\n",
            "Epoch 116, Loss_train: 11715.8104, Loss_test: 11638.6611\n",
            "Epoch 117, Loss_train: 11614.3096, Loss_test: 11616.4375\n",
            "Epoch 118, Loss_train: 11611.5656, Loss_test: 11594.4512\n",
            "Epoch 119, Loss_train: 11598.1175, Loss_test: 11572.3372\n",
            "Epoch 120, Loss_train: 11575.7052, Loss_test: 11550.4594\n",
            "Epoch 121, Loss_train: 11534.5639, Loss_test: 11528.7417\n",
            "Epoch 122, Loss_train: 11493.0225, Loss_test: 11506.9650\n",
            "Epoch 123, Loss_train: 11477.9983, Loss_test: 11485.0414\n",
            "Epoch 124, Loss_train: 11460.3808, Loss_test: 11463.2111\n",
            "Epoch 125, Loss_train: 11419.0067, Loss_test: 11441.2603\n",
            "Epoch 126, Loss_train: 11440.6600, Loss_test: 11419.7206\n",
            "Epoch 127, Loss_train: 11355.4934, Loss_test: 11398.1280\n",
            "Epoch 128, Loss_train: 11401.3119, Loss_test: 11376.4839\n",
            "Epoch 129, Loss_train: 11394.8259, Loss_test: 11354.8857\n",
            "Epoch 130, Loss_train: 11304.4301, Loss_test: 11333.1944\n",
            "Epoch 131, Loss_train: 11337.9205, Loss_test: 11311.6210\n",
            "Epoch 132, Loss_train: 11329.2834, Loss_test: 11290.2180\n",
            "Epoch 133, Loss_train: 11251.1437, Loss_test: 11268.4708\n",
            "Epoch 134, Loss_train: 11211.2130, Loss_test: 11247.1190\n",
            "Epoch 135, Loss_train: 11225.2735, Loss_test: 11225.6316\n",
            "Epoch 136, Loss_train: 11251.2952, Loss_test: 11204.1909\n",
            "Epoch 137, Loss_train: 11212.6615, Loss_test: 11182.8120\n",
            "Epoch 138, Loss_train: 11183.4646, Loss_test: 11161.3042\n",
            "Epoch 139, Loss_train: 11196.3533, Loss_test: 11140.1024\n",
            "Epoch 140, Loss_train: 11128.2866, Loss_test: 11118.9150\n",
            "Epoch 141, Loss_train: 11111.0139, Loss_test: 11097.6824\n",
            "Epoch 142, Loss_train: 11108.3837, Loss_test: 11076.5227\n",
            "Epoch 143, Loss_train: 11063.6946, Loss_test: 11055.2578\n",
            "Epoch 144, Loss_train: 11057.8690, Loss_test: 11034.2844\n",
            "Epoch 145, Loss_train: 11039.6218, Loss_test: 11013.0710\n",
            "Epoch 146, Loss_train: 10968.0453, Loss_test: 10991.9898\n",
            "Epoch 147, Loss_train: 10967.5608, Loss_test: 10970.7558\n",
            "Epoch 148, Loss_train: 10960.4444, Loss_test: 10949.8875\n",
            "Epoch 149, Loss_train: 11010.4260, Loss_test: 10929.0500\n",
            "Epoch 150, Loss_train: 10914.5908, Loss_test: 10908.7576\n"
          ]
        },
        {
          "output_type": "display_data",
          "data": {
            "text/plain": [
              "<Figure size 640x480 with 1 Axes>"
            ],
            "image/png": "[encoded data removed]"
          },
          "metadata": {}
        }
      ]
    },
    {
      "cell_type": "markdown",
      "source": [
        "7. Посчитать метрики на train и test множествах: для задачи регрессии -- MAE\n",
        "* B. Нейросеть с 1 скрытым слоем и оптимизатором Adam"
      ],
      "metadata": {
        "id": "AcoD4sR7EU78"
      }
    },
    {
      "cell_type": "code",
      "source": [
        "# Посчитать метрики на train и test множествах\n",
        "# б) Нейросеть с одним скрытым слоем\n",
        "from sklearn.metrics import mean_absolute_error\n",
        "\n",
        "model = NeuralNetwork()\n",
        "def evaluate_model(model, loader):\n",
        "  model.eval()\n",
        "  true_values = []\n",
        "  pred_values = []\n",
        "  with torch.no_grad():\n",
        "    for X_train, y_train in train_dataloader:\n",
        "      pred = model(X_train)\n",
        "      true_values.extend(y_train.numpy())\n",
        "      pred_values.extend(pred.numpy().flatten())\n",
        "    mae = mean_absolute_error(true_values, pred_values)\n",
        "    return mae\n",
        "\n",
        "train_mae = evaluate_model(model, train_dataloader)\n",
        "test_mae = evaluate_model(model, test_dataloader)\n",
        "print(f\"Train MAE: {train_mae:.4f}\")\n",
        "print(f\"Test MAE: {test_mae:.4f}\")"
      ],
      "metadata": {
        "colab": {
          "base_uri": "https://localhost:8080/"
        },
        "id": "I4xsfyN8xtTo",
        "outputId": "951521da-04f1-4792-fea5-f510a3a3f66b"
      },
      "execution_count": null,
      "outputs": [
        {
          "output_type": "stream",
          "name": "stdout",
          "text": [
            "Train MAE: 13345.9453\n",
            "Test MAE: 13345.9443\n"
          ]
        }
      ]
    },
    {
      "cell_type": "markdown",
      "source": [
        "5. Обучение на тренировочном множестве\n",
        "* C. Нейросеть с 4-мя скрытыми слоями и оптимизатором Adam"
      ],
      "metadata": {
        "id": "VyQbDcKCE-wV"
      }
    },
    {
      "cell_type": "code",
      "source": [
        "# 5. Обучение моделей\n",
        "# с) Нейросеть с 4-мя скрытыми слоями с оптимизатором Adam\n",
        "\n",
        "class FourHiddenNetwork(nn.Module):\n",
        "  def __init__(self, input_size, hidden_size, output_size):\n",
        "    super(FourHiddenNetwork, self).__init__()\n",
        "    self.fc1 = nn.Linear(input_size, hidden_size)\n",
        "    self.relu = nn.ReLU()\n",
        "    self.fc2 = nn.Linear(hidden_size, hidden_size)\n",
        "    self.fc3 = nn.Linear(hidden_size, hidden_size)\n",
        "    self.fc4 = nn.Linear(hidden_size, hidden_size)\n",
        "    self.fc5 = nn.Linear(hidden_size, output_size)\n",
        "\n",
        "  def forward(self, x):\n",
        "    x = self.fc1(x)\n",
        "    x = self.relu(x)\n",
        "    x = self.fc2(x)\n",
        "    x = self.relu(x)\n",
        "    x = self.fc3(x)\n",
        "    x = self.relu(x)\n",
        "    x = self.fc4(x)\n",
        "    x = self.relu(x)\n",
        "    x = self.fc5(x)\n",
        "    return x\n",
        "\n",
        "model = FourHiddenNetwork(X_train.shape[1], 64, 1)\n",
        "print(model)"
      ],
      "metadata": {
        "colab": {
          "base_uri": "https://localhost:8080/"
        },
        "id": "CRDIIUuNyMGl",
        "outputId": "ef86d873-632e-46af-d72f-c61718fda5aa"
      },
      "execution_count": null,
      "outputs": [
        {
          "output_type": "stream",
          "name": "stdout",
          "text": [
            "FourHiddenNetwork(\n",
            "  (fc1): Linear(in_features=6, out_features=64, bias=True)\n",
            "  (relu): ReLU()\n",
            "  (fc2): Linear(in_features=64, out_features=64, bias=True)\n",
            "  (fc3): Linear(in_features=64, out_features=64, bias=True)\n",
            "  (fc4): Linear(in_features=64, out_features=64, bias=True)\n",
            "  (fc5): Linear(in_features=64, out_features=1, bias=True)\n",
            ")\n"
          ]
        }
      ]
    },
    {
      "cell_type": "markdown",
      "source": [
        "6. Посчитать loss на train и test множествах, в зависимости от эпохи\n",
        "* C. Нейросеть с 4-мя скрытыми слоями и оптимизатором Adam"
      ],
      "metadata": {
        "id": "NUEGRaeHFYO6"
      }
    },
    {
      "cell_type": "code",
      "source": [
        "# Вычислить Loss на trai и test множествах, в зависимости от эпохи обучения - learning curve\n",
        "# с) Нейросеть с 4-мя скрытыми слоями с оптимизатором Adam\n",
        "\n",
        "model = FourHiddenNetwork(X_train.shape[1], 64, 1)\n",
        "# MAE loss\n",
        "criterion = nn.L1Loss()\n",
        "epoch = 150\n",
        "learning_rate = 1e-3\n",
        "optimizer = torch.optim.Adam(model.parameters())\n",
        "\n",
        "train_losses, test_losses = [], []\n",
        "\n",
        "for i in range(epoch):\n",
        "  train_loss = 0.0\n",
        "  for X_train, y_train in train_dataloader:\n",
        "    model.train()\n",
        "    optimizer.zero_grad()\n",
        "    outputs = model(X_train)\n",
        "    loss = criterion(outputs, y_train)\n",
        "    loss.backward()\n",
        "    optimizer.step()\n",
        "    train_loss += loss.item()\n",
        "  test_loss = 0.0\n",
        "  for X_test, y_test in test_dataloader:\n",
        "    model.eval()\n",
        "    outputs = model(X_test)\n",
        "    loss = criterion(outputs, y_test)\n",
        "    test_loss += loss.item()\n",
        "  print(f\"Epoch {i+1}, Loss_train: {train_loss / len(train_dataloader):.4f}, Loss_test: {test_loss / len(test_dataloader):.4f}\")\n",
        "  train_losses.append(train_loss / len(train_dataloader))\n",
        "  test_losses.append(test_loss / len(test_dataloader))\n",
        "\n",
        "plt.figure()\n",
        "plt.plot(train_losses, label='Train Loss')\n",
        "plt.plot(test_losses, label='Test Loss')\n",
        "plt.title('Нейронная сеть с 4-мя скрытыми слоями')\n",
        "plt.legend()\n",
        "plt.show()"
      ],
      "metadata": {
        "colab": {
          "base_uri": "https://localhost:8080/",
          "height": 1000
        },
        "id": "ZBTLmSkS77qm",
        "outputId": "bcf2dc83-076e-42c3-fa4f-845623a0f8ba"
      },
      "execution_count": null,
      "outputs": [
        {
          "output_type": "stream",
          "name": "stdout",
          "text": [
            "Epoch 1, Loss_train: 13374.2424, Loss_test: 13338.7980\n",
            "Epoch 2, Loss_train: 13355.7814, Loss_test: 13333.1793\n",
            "Epoch 3, Loss_train: 13340.6967, Loss_test: 13298.6995\n",
            "Epoch 4, Loss_train: 13223.9674, Loss_test: 13151.0101\n",
            "Epoch 5, Loss_train: 12936.8277, Loss_test: 12660.3294\n",
            "Epoch 6, Loss_train: 12132.2328, Loss_test: 11409.7811\n",
            "Epoch 7, Loss_train: 10565.2976, Loss_test: 9569.5494\n",
            "Epoch 8, Loss_train: 8998.8177, Loss_test: 8713.5668\n",
            "Epoch 9, Loss_train: 8685.7624, Loss_test: 8678.1575\n",
            "Epoch 10, Loss_train: 8647.4725, Loss_test: 8610.3617\n",
            "Epoch 11, Loss_train: 8569.0252, Loss_test: 8574.0489\n",
            "Epoch 12, Loss_train: 8564.4002, Loss_test: 8543.9899\n",
            "Epoch 13, Loss_train: 8527.9929, Loss_test: 8518.2931\n",
            "Epoch 14, Loss_train: 8486.2445, Loss_test: 8501.6517\n",
            "Epoch 15, Loss_train: 8475.3297, Loss_test: 8481.1617\n",
            "Epoch 16, Loss_train: 8500.8926, Loss_test: 8462.6133\n",
            "Epoch 17, Loss_train: 8447.5261, Loss_test: 8447.7797\n",
            "Epoch 18, Loss_train: 8394.3377, Loss_test: 8435.8863\n",
            "Epoch 19, Loss_train: 8394.8199, Loss_test: 8423.3472\n",
            "Epoch 20, Loss_train: 8396.7657, Loss_test: 8413.3354\n",
            "Epoch 21, Loss_train: 8426.0320, Loss_test: 8405.1245\n",
            "Epoch 22, Loss_train: 8412.3857, Loss_test: 8397.9379\n",
            "Epoch 23, Loss_train: 8419.0246, Loss_test: 8390.5297\n",
            "Epoch 24, Loss_train: 8364.5671, Loss_test: 8388.6012\n",
            "Epoch 25, Loss_train: 8336.5055, Loss_test: 8378.1195\n",
            "Epoch 26, Loss_train: 8409.7977, Loss_test: 8372.1926\n",
            "Epoch 27, Loss_train: 8335.8900, Loss_test: 8368.7016\n",
            "Epoch 28, Loss_train: 8346.9093, Loss_test: 8363.8293\n",
            "Epoch 29, Loss_train: 8372.6974, Loss_test: 8360.6818\n",
            "Epoch 30, Loss_train: 8347.5968, Loss_test: 8358.3913\n",
            "Epoch 31, Loss_train: 8332.2067, Loss_test: 8352.9262\n",
            "Epoch 32, Loss_train: 8369.7868, Loss_test: 8349.3039\n",
            "Epoch 33, Loss_train: 8364.6695, Loss_test: 8347.1431\n",
            "Epoch 34, Loss_train: 8317.4553, Loss_test: 8343.1574\n",
            "Epoch 35, Loss_train: 8336.9858, Loss_test: 8342.3413\n",
            "Epoch 36, Loss_train: 8331.6476, Loss_test: 8340.1759\n",
            "Epoch 37, Loss_train: 8321.4741, Loss_test: 8337.0915\n",
            "Epoch 38, Loss_train: 8329.4375, Loss_test: 8333.7043\n",
            "Epoch 39, Loss_train: 8402.1548, Loss_test: 8331.8134\n",
            "Epoch 40, Loss_train: 8354.0624, Loss_test: 8329.9288\n",
            "Epoch 41, Loss_train: 8325.0659, Loss_test: 8328.2740\n",
            "Epoch 42, Loss_train: 8313.1473, Loss_test: 8326.3755\n",
            "Epoch 43, Loss_train: 8321.2633, Loss_test: 8324.8496\n",
            "Epoch 44, Loss_train: 8366.0314, Loss_test: 8328.9330\n",
            "Epoch 45, Loss_train: 8301.8927, Loss_test: 8322.3484\n",
            "Epoch 46, Loss_train: 8296.6068, Loss_test: 8319.6998\n",
            "Epoch 47, Loss_train: 8367.1959, Loss_test: 8318.8805\n",
            "Epoch 48, Loss_train: 8297.8168, Loss_test: 8322.4987\n",
            "Epoch 49, Loss_train: 8345.2385, Loss_test: 8316.8017\n",
            "Epoch 50, Loss_train: 8302.9968, Loss_test: 8314.6428\n",
            "Epoch 51, Loss_train: 8355.0732, Loss_test: 8312.7436\n",
            "Epoch 52, Loss_train: 8307.1513, Loss_test: 8311.8135\n",
            "Epoch 53, Loss_train: 8316.9541, Loss_test: 8311.0343\n",
            "Epoch 54, Loss_train: 8296.9910, Loss_test: 8310.3947\n",
            "Epoch 55, Loss_train: 8302.6334, Loss_test: 8308.8095\n",
            "Epoch 56, Loss_train: 8318.8270, Loss_test: 8308.2563\n",
            "Epoch 57, Loss_train: 8349.2193, Loss_test: 8306.9687\n",
            "Epoch 58, Loss_train: 8306.9963, Loss_test: 8305.9252\n",
            "Epoch 59, Loss_train: 8349.4761, Loss_test: 8306.9305\n",
            "Epoch 60, Loss_train: 8295.1065, Loss_test: 8315.5420\n",
            "Epoch 61, Loss_train: 8326.9961, Loss_test: 8315.0167\n",
            "Epoch 62, Loss_train: 8278.8768, Loss_test: 8305.6887\n",
            "Epoch 63, Loss_train: 8321.8589, Loss_test: 8302.6208\n",
            "Epoch 64, Loss_train: 8282.6556, Loss_test: 8302.0628\n",
            "Epoch 65, Loss_train: 8345.9062, Loss_test: 8301.1912\n",
            "Epoch 66, Loss_train: 8323.4735, Loss_test: 8300.9136\n",
            "Epoch 67, Loss_train: 8292.9649, Loss_test: 8300.4131\n",
            "Epoch 68, Loss_train: 8314.5321, Loss_test: 8299.8057\n",
            "Epoch 69, Loss_train: 8326.1200, Loss_test: 8299.3327\n",
            "Epoch 70, Loss_train: 8283.2202, Loss_test: 8299.4643\n",
            "Epoch 71, Loss_train: 8281.6437, Loss_test: 8298.0972\n",
            "Epoch 72, Loss_train: 8302.8687, Loss_test: 8297.3886\n",
            "Epoch 73, Loss_train: 8298.6239, Loss_test: 8297.1804\n",
            "Epoch 74, Loss_train: 8351.7327, Loss_test: 8298.7821\n",
            "Epoch 75, Loss_train: 8285.5345, Loss_test: 8298.6025\n",
            "Epoch 76, Loss_train: 8310.7753, Loss_test: 8296.4653\n",
            "Epoch 77, Loss_train: 8300.6742, Loss_test: 8295.5957\n",
            "Epoch 78, Loss_train: 8361.6523, Loss_test: 8295.2796\n",
            "Epoch 79, Loss_train: 8332.2083, Loss_test: 8297.5395\n",
            "Epoch 80, Loss_train: 8270.9548, Loss_test: 8294.7033\n",
            "Epoch 81, Loss_train: 8300.9827, Loss_test: 8294.4785\n",
            "Epoch 82, Loss_train: 8274.0423, Loss_test: 8294.5604\n",
            "Epoch 83, Loss_train: 8308.1129, Loss_test: 8294.2957\n",
            "Epoch 84, Loss_train: 8299.2988, Loss_test: 8293.6501\n",
            "Epoch 85, Loss_train: 8289.9617, Loss_test: 8293.1425\n",
            "Epoch 86, Loss_train: 8327.8751, Loss_test: 8292.8793\n",
            "Epoch 87, Loss_train: 8310.9256, Loss_test: 8296.5742\n",
            "Epoch 88, Loss_train: 8294.5820, Loss_test: 8298.7199\n",
            "Epoch 89, Loss_train: 8315.0335, Loss_test: 8294.3058\n",
            "Epoch 90, Loss_train: 8298.9680, Loss_test: 8291.9868\n",
            "Epoch 91, Loss_train: 8305.7606, Loss_test: 8292.0820\n",
            "Epoch 92, Loss_train: 8300.9645, Loss_test: 8291.6594\n",
            "Epoch 93, Loss_train: 8295.6193, Loss_test: 8291.5521\n",
            "Epoch 94, Loss_train: 8302.8937, Loss_test: 8291.9847\n",
            "Epoch 95, Loss_train: 8280.5777, Loss_test: 8291.0300\n",
            "Epoch 96, Loss_train: 8323.2514, Loss_test: 8293.2244\n",
            "Epoch 97, Loss_train: 8322.1158, Loss_test: 8290.5875\n",
            "Epoch 98, Loss_train: 8329.1209, Loss_test: 8293.1093\n",
            "Epoch 99, Loss_train: 8315.7074, Loss_test: 8291.7523\n",
            "Epoch 100, Loss_train: 8302.1427, Loss_test: 8290.0358\n",
            "Epoch 101, Loss_train: 8279.4417, Loss_test: 8289.6016\n",
            "Epoch 102, Loss_train: 8269.3552, Loss_test: 8289.9594\n",
            "Epoch 103, Loss_train: 8278.4236, Loss_test: 8289.8891\n",
            "Epoch 104, Loss_train: 8308.0383, Loss_test: 8289.6622\n",
            "Epoch 105, Loss_train: 8291.2160, Loss_test: 8289.0694\n",
            "Epoch 106, Loss_train: 8300.7244, Loss_test: 8288.9759\n",
            "Epoch 107, Loss_train: 8287.4702, Loss_test: 8288.9646\n",
            "Epoch 108, Loss_train: 8336.1586, Loss_test: 8292.5536\n",
            "Epoch 109, Loss_train: 8269.5828, Loss_test: 8289.0881\n",
            "Epoch 110, Loss_train: 8266.9328, Loss_test: 8291.1901\n",
            "Epoch 111, Loss_train: 8272.6695, Loss_test: 8291.0073\n",
            "Epoch 112, Loss_train: 8303.9710, Loss_test: 8289.0104\n",
            "Epoch 113, Loss_train: 8266.9056, Loss_test: 8288.9064\n",
            "Epoch 114, Loss_train: 8265.1044, Loss_test: 8288.0186\n",
            "Epoch 115, Loss_train: 8277.4868, Loss_test: 8288.2233\n",
            "Epoch 116, Loss_train: 8260.7509, Loss_test: 8289.0828\n",
            "Epoch 117, Loss_train: 8280.9861, Loss_test: 8289.4334\n",
            "Epoch 118, Loss_train: 8308.9732, Loss_test: 8287.4952\n",
            "Epoch 119, Loss_train: 8300.1457, Loss_test: 8287.8136\n",
            "Epoch 120, Loss_train: 8264.9325, Loss_test: 8287.5163\n",
            "Epoch 121, Loss_train: 8259.6836, Loss_test: 8289.8921\n",
            "Epoch 122, Loss_train: 8308.0302, Loss_test: 8287.8446\n",
            "Epoch 123, Loss_train: 8261.2030, Loss_test: 8288.7445\n",
            "Epoch 124, Loss_train: 8262.9562, Loss_test: 8287.8528\n",
            "Epoch 125, Loss_train: 8311.7281, Loss_test: 8288.3538\n",
            "Epoch 126, Loss_train: 8266.8791, Loss_test: 8287.8665\n",
            "Epoch 127, Loss_train: 8272.2083, Loss_test: 8289.4650\n",
            "Epoch 128, Loss_train: 8275.0999, Loss_test: 8289.0044\n",
            "Epoch 129, Loss_train: 8288.2645, Loss_test: 8288.6892\n",
            "Epoch 130, Loss_train: 8312.5908, Loss_test: 8287.0360\n",
            "Epoch 131, Loss_train: 8290.2399, Loss_test: 8286.8584\n",
            "Epoch 132, Loss_train: 8323.2760, Loss_test: 8287.5881\n",
            "Epoch 133, Loss_train: 8281.5130, Loss_test: 8287.7810\n",
            "Epoch 134, Loss_train: 8290.9846, Loss_test: 8286.4581\n",
            "Epoch 135, Loss_train: 8313.3695, Loss_test: 8286.6073\n",
            "Epoch 136, Loss_train: 8276.4926, Loss_test: 8286.8602\n",
            "Epoch 137, Loss_train: 8300.7126, Loss_test: 8288.1884\n",
            "Epoch 138, Loss_train: 8285.8943, Loss_test: 8286.3583\n",
            "Epoch 139, Loss_train: 8248.0743, Loss_test: 8286.0596\n",
            "Epoch 140, Loss_train: 8288.0635, Loss_test: 8285.8337\n",
            "Epoch 141, Loss_train: 8302.0306, Loss_test: 8287.2907\n",
            "Epoch 142, Loss_train: 8280.4329, Loss_test: 8286.1624\n",
            "Epoch 143, Loss_train: 8294.1057, Loss_test: 8285.8021\n",
            "Epoch 144, Loss_train: 8313.2161, Loss_test: 8286.2780\n",
            "Epoch 145, Loss_train: 8343.9541, Loss_test: 8287.6466\n",
            "Epoch 146, Loss_train: 8262.3912, Loss_test: 8286.7217\n",
            "Epoch 147, Loss_train: 8299.0852, Loss_test: 8285.8406\n",
            "Epoch 148, Loss_train: 8263.0434, Loss_test: 8286.9980\n",
            "Epoch 149, Loss_train: 8290.7679, Loss_test: 8285.6786\n",
            "Epoch 150, Loss_train: 8318.9262, Loss_test: 8285.5343\n"
          ]
        },
        {
          "output_type": "display_data",
          "data": {
            "text/plain": [
              "<Figure size 640x480 with 1 Axes>"
            ],
            "image/png": "[encoded data removed]"
          },
          "metadata": {}
        }
      ]
    },
    {
      "cell_type": "markdown",
      "source": [
        "7. Посчитать метрики на train и test множествах: для задачи регрессии -- MAE\n",
        "* C. Нейросеть с 4-мя скрытыми слоями и оптимизатором Adam"
      ],
      "metadata": {
        "id": "XqHuto7KGDIO"
      }
    },
    {
      "cell_type": "code",
      "source": [
        "# Посчитать метрики на train и test множествах\n",
        "# с) Нейросеть с 4-мя скрытыми слоями с оптимизатором Adam\n",
        "from sklearn.metrics import mean_absolute_error\n",
        "\n",
        "model = FourHiddenNetwork(X_train.shape[1], 64, 1)\n",
        "def evaluate_model(model, loader):\n",
        "  model.eval()\n",
        "  true_values = []\n",
        "  pred_values = []\n",
        "  with torch.no_grad():\n",
        "    for X_train, y_train in train_dataloader:\n",
        "      pred = model(X_train)\n",
        "      true_values.extend(y_train.numpy())\n",
        "      pred_values.extend(pred.numpy().flatten())\n",
        "  mae = mean_absolute_error(true_values, pred_values)\n",
        "  return mae\n",
        "\n",
        "train_mae = evaluate_model(model, train_dataloader)\n",
        "test_mae = evaluate_model(model, test_dataloader)\n",
        "print(f\"Train MAE: {train_mae:.4f}\")\n",
        "print(f\"Test MAE: {test_mae:.4f}\")"
      ],
      "metadata": {
        "colab": {
          "base_uri": "https://localhost:8080/"
        },
        "id": "fXmlmNFV9LhP",
        "outputId": "7143a2c9-36a4-4a98-9548-60fe65589cf0"
      },
      "execution_count": null,
      "outputs": [
        {
          "output_type": "stream",
          "name": "stdout",
          "text": [
            "Train MAE: 13346.1025\n",
            "Test MAE: 13346.1025\n"
          ]
        }
      ]
    },
    {
      "cell_type": "markdown",
      "source": [
        "8. Сравнить метрики относительно train/test и относительно разных моделей.\n",
        "* А. Какая модель справилась лучше с поставленной задачей?  \n",
        "Нейросеть с 4-мя скрытыми слоями справилась лучше с прогнозированием charges.\n",
        "* B. Имеет ли место переобучение?  \n",
        "Моедель с 4-мя скрытыми слоями демонстрируют признаки переобучения, так как значение средней абсолютной ошибки для тренировочных данных больше, чем для тестовых: Train MAE < Test Mae.\n",
        "* C. Имеет ли место недообучение?  \n",
        "Все модели могут аппроксимировать данные на достаточном уровне.\n",
        "* D. Как можно улучшить метрики моделей?  \n",
        "Для улучшения метрик моделей можно изменить архитектуру сети: количество слоев, нейронов, активиационную функцию; изменить параметры: learning_rate, batch size; использовать другие функции нормализации данных: MinMaxScaling или RobustScaling для численных признаков, OneHotEncoding или TargetEncoding для категориальных признаков; использовать иные методы оптимизации нейронных сетей; увеличить размер обучающей выборки.\n"
      ],
      "metadata": {
        "id": "PQLEY-_ZR6bL"
      }
    }
  ]
}